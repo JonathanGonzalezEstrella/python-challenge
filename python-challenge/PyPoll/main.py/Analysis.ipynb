{
 "cells": [
  {
   "cell_type": "code",
   "execution_count": 1,
   "id": "634f73aa-3928-4a18-89ba-f0310f61e5d5",
   "metadata": {},
   "outputs": [
    {
     "name": "stdout",
     "output_type": "stream",
     "text": [
      "Election Results\n",
      "-------------------------\n",
      "Total Votes: 369711\n",
      "-------------------------\n",
      "Charles Casper Stockham: 23.049% (85213)\n",
      "Diana DeGette: 73.812% (272892)\n",
      "Raymon Anthony Doane: 3.139% (11606)\n",
      "-------------------------\n",
      "Winner: Diana DeGette\n",
      "-------------------------\n",
      "\n"
     ]
    }
   ],
   "source": [
    "# Import pandas for data manipulation\n",
    "import pandas as pd\n",
    "\n",
    "# Load the dataset\n",
    "file_path = \"C:/Users/JGonzalez3/Documents/DataBCampWorkHere/03-Python/Challenge 3/python-challenge/PyPoll/Resources/election_data.csv\"\n",
    "df = pd.read_csv(file_path)\n",
    "\n",
    "# Calculate the total number of votes cast\n",
    "total_votes = df.shape[0]\n",
    "\n",
    "# Get a complete list of candidates who received votes\n",
    "candidates = df['Candidate'].unique()\n",
    "\n",
    "# Calculate the percentage of votes and total number of votes each candidate won\n",
    "vote_counts = df['Candidate'].value_counts()\n",
    "vote_percentage = (vote_counts / total_votes) * 100\n",
    "\n",
    "# Determine the winner of the election based on popular vote\n",
    "winner = vote_counts.idxmax()\n",
    "\n",
    "# Prepare the analysis summary\n",
    "analysis_summary = (\n",
    "    \"Election Results\\n\"\n",
    "    \"-------------------------\\n\"\n",
    "    f\"Total Votes: {total_votes}\\n\"\n",
    "    \"-------------------------\\n\"\n",
    ")\n",
    "\n",
    "for candidate in candidates:\n",
    "    analysis_summary += f\"{candidate}: {vote_percentage[candidate]:.3f}% ({vote_counts[candidate]})\\n\"\n",
    "\n",
    "analysis_summary += (\n",
    "    \"-------------------------\\n\"\n",
    "    f\"Winner: {winner}\\n\"\n",
    "    \"-------------------------\\n\"\n",
    ")\n",
    "\n",
    "# Print the analysis to the terminal\n",
    "print(analysis_summary)\n",
    "\n",
    "# Export the analysis to a text file\n",
    "output_path = \"C:/Users/JGonzalez3/Documents/DataBCampWorkHere/03-Python/Challenge 3/python-challenge/PyPoll/Resources/election_results.txt\"\n",
    "with open(output_path, 'w') as file:\n",
    "    file.write(analysis_summary)"
   ]
  },
  {
   "cell_type": "code",
   "execution_count": null,
   "id": "f33b58a9-1e9e-419e-bf71-8f829d489c67",
   "metadata": {},
   "outputs": [],
   "source": []
  }
 ],
 "metadata": {
  "kernelspec": {
   "display_name": "Python 3 (ipykernel)",
   "language": "python",
   "name": "python3"
  },
  "language_info": {
   "codemirror_mode": {
    "name": "ipython",
    "version": 3
   },
   "file_extension": ".py",
   "mimetype": "text/x-python",
   "name": "python",
   "nbconvert_exporter": "python",
   "pygments_lexer": "ipython3",
   "version": "3.11.5"
  }
 },
 "nbformat": 4,
 "nbformat_minor": 5
}
