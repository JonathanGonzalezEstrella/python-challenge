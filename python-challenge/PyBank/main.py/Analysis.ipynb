{
 "cells": [
  {
   "cell_type": "code",
   "execution_count": 1,
   "id": "b310f469-d113-4be5-8c91-9a15e17e288a",
   "metadata": {},
   "outputs": [
    {
     "name": "stdout",
     "output_type": "stream",
     "text": [
      "Total Months: 86\n",
      "Total: $22564198\n",
      "Average Change: $-8311.11\n",
      "Greatest Increase in Profits: Aug-16 ($1862002.0)\n",
      "Greatest Decrease in Profits: Feb-14 ($-1825558.0)\n"
     ]
    }
   ],
   "source": [
    "# Import pandas for data manipulation\n",
    "import pandas as pd\n",
    "\n",
    "# Load the dataset\n",
    "file_path = \"C:/Users/JGonzalez3/Documents/DataBCampWorkHere/03-Python/Challenge 3/python-challenge/PyBank/Resources/budget_data.csv\"\n",
    "df = pd.read_csv(file_path)\n",
    "\n",
    "# Calculate the total number of months included in the dataset\n",
    "total_months = df.shape[0]\n",
    "\n",
    "# Calculate the net total amount of \"Profit/Losses\" over the entire period\n",
    "total_profit_losses = df[\"Profit/Losses\"].sum()\n",
    "\n",
    "# Determine the changes in \"Profit/Losses\" over the entire period, and calculate the average of those changes\n",
    "df['Profit/Losses Changes'] = df['Profit/Losses'].diff()\n",
    "average_change = df['Profit/Losses Changes'].mean()\n",
    "\n",
    "# Find the greatest increase in profits (date and amount) over the entire period\n",
    "greatest_increase = df.loc[df['Profit/Losses Changes'].idxmax()]\n",
    "\n",
    "# Find the greatest decrease in profits (date and amount) over the entire period\n",
    "greatest_decrease = df.loc[df['Profit/Losses Changes'].idxmin()]\n",
    "\n",
    "# Display the results\n",
    "print(f\"Total Months: {total_months}\")\n",
    "print(f\"Total: ${total_profit_losses}\")\n",
    "print(f\"Average Change: ${average_change:.2f}\")\n",
    "print(f\"Greatest Increase in Profits: {greatest_increase['Date']} (${greatest_increase['Profit/Losses Changes']})\")\n",
    "print(f\"Greatest Decrease in Profits: {greatest_decrease['Date']} (${greatest_decrease['Profit/Losses Changes']})\")"
   ]
  },
  {
   "cell_type": "code",
   "execution_count": 2,
   "id": "0621e792-c3e3-4e0e-a5d5-084d3662ad1d",
   "metadata": {},
   "outputs": [
    {
     "name": "stdout",
     "output_type": "stream",
     "text": [
      "Financial Analysis\n",
      "----------------------------\n",
      "Total Months: 86\n",
      "Total: $22564198\n",
      "Average Change: $-8311.11\n",
      "Greatest Increase in Profits: Aug-16 ($1862002.0)\n",
      "Greatest Decrease in Profits: Feb-14 ($-1825558.0)\n",
      "\n"
     ]
    }
   ],
   "source": [
    "# Prepare the analysis summary as a multi-line string\n",
    "analysis_summary = (\n",
    "    \"Financial Analysis\\n\"\n",
    "    \"----------------------------\\n\"\n",
    "    f\"Total Months: {total_months}\\n\"\n",
    "    f\"Total: ${total_profit_losses}\\n\"\n",
    "    f\"Average Change: ${average_change:.2f}\\n\"\n",
    "    f\"Greatest Increase in Profits: {greatest_increase['Date']} (${greatest_increase['Profit/Losses Changes']})\\n\"\n",
    "    f\"Greatest Decrease in Profits: {greatest_decrease['Date']} (${greatest_decrease['Profit/Losses Changes']})\\n\"\n",
    ")\n",
    "\n",
    "# Print the analysis to the terminal\n",
    "print(analysis_summary)\n",
    "\n",
    "# Export the analysis to a text file\n",
    "output_path = \"C:/Users/JGonzalez3/Documents/DataBCampWorkHere/03-Python/Challenge 3/python-challenge/PyBank/Resources/financial_analysis.txt\"\n",
    "with open(output_path, 'w') as file:\n",
    "    file.write(analysis_summary)"
   ]
  },
  {
   "cell_type": "code",
   "execution_count": null,
   "id": "cbb2b2ad-ba50-4935-9acf-f2f17810f0dc",
   "metadata": {},
   "outputs": [],
   "source": []
  }
 ],
 "metadata": {
  "kernelspec": {
   "display_name": "Python 3 (ipykernel)",
   "language": "python",
   "name": "python3"
  },
  "language_info": {
   "codemirror_mode": {
    "name": "ipython",
    "version": 3
   },
   "file_extension": ".py",
   "mimetype": "text/x-python",
   "name": "python",
   "nbconvert_exporter": "python",
   "pygments_lexer": "ipython3",
   "version": "3.11.5"
  }
 },
 "nbformat": 4,
 "nbformat_minor": 5
}
